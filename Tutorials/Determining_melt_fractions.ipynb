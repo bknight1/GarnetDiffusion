{
 "cells": [
  {
   "cell_type": "markdown",
   "id": "0bc2c8f1-020a-474e-8485-25f51aee753b",
   "metadata": {},
   "source": [
    "### import MAGEMin from julia using juliacall"
   ]
  },
  {
   "cell_type": "code",
   "execution_count": 1,
   "id": "5255f9bc-213c-4b8b-9085-a0c946759dcb",
   "metadata": {},
   "outputs": [
    {
     "name": "stdout",
     "output_type": "stream",
     "text": [
      "Detected IPython. Loading juliacall extension. See https://juliapy.github.io/PythonCall.jl/stable/compat/#IPython\n",
      "Using libMAGEMin.dylib from MAGEMin_jll\n"
     ]
    }
   ],
   "source": [
    "import juliacall\n",
    "import numpy as np\n",
    "\n",
    "MAGEMin_C = juliacall.newmodule(\"MAGEMin_C\")\n",
    "MAGEMin_C.seval(\"using MAGEMin_C\")\n",
    "\n",
    "from juliacall import Main as jl, convert as jlconvert"
   ]
  },
  {
   "cell_type": "code",
   "execution_count": 2,
   "id": "f11d6924",
   "metadata": {},
   "outputs": [],
   "source": [
    "import PyMAGEMin"
   ]
  },
  {
   "cell_type": "code",
   "execution_count": 3,
   "id": "5b60ffc0-45e1-4395-9ebd-764de6e4cdae",
   "metadata": {},
   "outputs": [],
   "source": [
    "### Find the solidus and liquidus when P = 8 kbar"
   ]
  },
  {
   "cell_type": "code",
   "execution_count": 4,
   "id": "e30e27ab-9923-44cf-9d5b-00f406a5cb26",
   "metadata": {},
   "outputs": [],
   "source": [
    "db   = \"ig\"  # database: ig, igneous (Holland et al., 2018) mp, metapelite (White et al 2014b)\n",
    "data = MAGEMin_C.Initialize_MAGEMin(db, verbose=False)\n",
    "test = 0         #KLB1\n",
    "data = MAGEMin_C.use_predefined_bulk_rock(data, test)\n",
    "P    = 8.0\n",
    "# out  = MAGEMin_C.point_wise_minimization(P,T, data)"
   ]
  },
  {
   "cell_type": "markdown",
   "id": "b32832da-eb2d-4138-8ff8-ea3fd5edc707",
   "metadata": {},
   "source": [
    "#### Determine the liquid fraction of bulk rock to get solidus and liquidus\n"
   ]
  },
  {
   "cell_type": "code",
   "execution_count": 5,
   "id": "c56ce1a2-4b11-4894-a9fd-6475a7554d9c",
   "metadata": {
    "scrolled": true
   },
   "outputs": [],
   "source": [
    "liq_frac_vals = []\n",
    "temp = np.linspace(1000, 2000, 1001)\n",
    "for T in temp:\n",
    "    out = MAGEMin_C.single_point_minimization(P, T, data)\n",
    "    liq_frac = PyMAGEMin.MAGEMin_functions.phase_frac(phase=\"liq\", MAGEMinOutput=out, sys_in='mol')\n",
    "    liq_frac_vals.append( liq_frac )"
   ]
  },
  {
   "cell_type": "code",
   "execution_count": 6,
   "id": "38da25a7",
   "metadata": {},
   "outputs": [],
   "source": [
    "### find where liquidus first becomes 1 (liquidus)\n",
    "liquidus_T = temp[np.where(np.array(liq_frac_vals) == 1.0)[0][0]]\n",
    "### find where liquidus is 0 for last time (solidus)\n",
    "solidus_T  = temp[np.where(np.array(liq_frac_vals) == 0.0)[0][-1]]"
   ]
  },
  {
   "cell_type": "code",
   "execution_count": 7,
   "id": "8aeec9a5-9100-4c18-a89b-3b150facd9a6",
   "metadata": {},
   "outputs": [
    {
     "data": {
      "text/plain": [
       "<matplotlib.collections.PathCollection at 0x35cd5b9d0>"
      ]
     },
     "execution_count": 7,
     "metadata": {},
     "output_type": "execute_result"
    },
    {
     "data": {
      "image/png": "[encoded data removed]",
      "text/plain": [
       "<Figure size 640x480 with 1 Axes>"
      ]
     },
     "metadata": {},
     "output_type": "display_data"
    }
   ],
   "source": [
    "import matplotlib.pyplot as plt\n",
    "\n",
    "\n",
    "plt.plot(temp,  liq_frac_vals , c='k', ls=':')\n",
    "plt.scatter(liquidus_T, 1, marker='x', c='red')\n",
    "plt.scatter(solidus_T, 0, marker='x', c='green')"
   ]
  },
  {
   "cell_type": "code",
   "execution_count": 8,
   "id": "dffe27f5-a380-4480-8f07-38d8335e8161",
   "metadata": {},
   "outputs": [
    {
     "name": "stdout",
     "output_type": "stream",
     "text": [
      "solidus = 1188.0°C, liquidus = 1848.0°C\n"
     ]
    }
   ],
   "source": [
    "print(f'solidus = {solidus_T}°C, liquidus = {liquidus_T}°C')"
   ]
  },
  {
   "cell_type": "markdown",
   "id": "1abbfbf3",
   "metadata": {},
   "source": [
    "### Find solidus and liquidus to nearest degree"
   ]
  },
  {
   "cell_type": "code",
   "execution_count": 9,
   "id": "5d877876",
   "metadata": {},
   "outputs": [
    {
     "name": "stdout",
     "output_type": "stream",
     "text": [
      "0.001836698008123093 1199.0\n",
      "0.0015973205888102683 1198.0\n",
      "0.0013780769351836462 1197.0\n",
      "0.0011738214563491195 1196.0\n",
      "0.0009882690189167752 1195.0\n",
      "0.0007971076188534354 1194.0\n",
      "0.0006297660269190425 1193.0\n",
      "0.00045677712677245517 1192.0\n",
      "0.0002945426148541775 1191.0\n",
      "0.00015350956611932852 1190.0\n",
      "1.760917779710022e-05 1189.0\n",
      "0.0 1188.0\n"
     ]
    }
   ],
   "source": [
    "initial_T = 1200.\n",
    "solidus_T = float( initial_T )\n",
    "out = MAGEMin_C.single_point_minimization(P, liquidus_T, data)\n",
    "liq_frac = PyMAGEMin.MAGEMin_functions.phase_frac(phase=\"liq\", MAGEMinOutput=out, sys_in='mol')\n",
    "\n",
    "while liq_frac > 0:\n",
    "    solidus_T -= 1.\n",
    "    out = MAGEMin_C.single_point_minimization(P, solidus_T, data)\n",
    "    liq_frac = PyMAGEMin.MAGEMin_functions.phase_frac(phase=\"liq\", MAGEMinOutput=out, sys_in='mol')\n",
    "    print(liq_frac, solidus_T)"
   ]
  },
  {
   "cell_type": "code",
   "execution_count": 10,
   "id": "24bc0213",
   "metadata": {},
   "outputs": [
    {
     "name": "stdout",
     "output_type": "stream",
     "text": [
      "0.7678077177808588 1801.0\n",
      "0.7717560749147305 1802.0\n",
      "0.775688266963355 1803.0\n",
      "0.7797189135063312 1804.0\n",
      "0.7837396878169002 1805.0\n",
      "0.7877869768037459 1806.0\n",
      "0.7919387430812226 1807.0\n",
      "0.7961276766714983 1808.0\n",
      "0.800298318076304 1809.0\n",
      "0.8045839667185712 1810.0\n",
      "0.8088357599442539 1811.0\n",
      "0.81322298982022 1812.0\n",
      "0.8175790281115132 1813.0\n",
      "0.8219945963673208 1814.0\n",
      "0.8265151212144082 1815.0\n",
      "0.8310224505674317 1816.0\n",
      "0.8355777814686325 1817.0\n",
      "0.8401879053583674 1818.0\n",
      "0.844850640620775 1819.0\n",
      "0.849563107491105 1820.0\n",
      "0.8543798111712074 1821.0\n",
      "0.8591844534309179 1822.0\n",
      "0.8640384674617974 1823.0\n",
      "0.8689871668113931 1824.0\n",
      "0.8739285272540835 1825.0\n",
      "0.8789367649456359 1826.0\n",
      "0.8841093342210921 1827.0\n",
      "0.8892184724075176 1828.0\n",
      "0.8944323679102022 1829.0\n",
      "0.8996919202187227 1830.0\n",
      "0.9050516162107528 1831.0\n",
      "0.9104480108564915 1832.0\n",
      "0.9158797940665021 1833.0\n",
      "0.9214202212014857 1834.0\n",
      "0.9270086458535228 1835.0\n",
      "0.932741824440536 1836.0\n",
      "0.9385357869012477 1837.0\n",
      "0.9443728464177916 1838.0\n",
      "0.9502316372029807 1839.0\n",
      "0.9562085250265971 1840.0\n",
      "0.9621532618890807 1841.0\n",
      "0.9681880517387648 1842.0\n",
      "0.9743071712449205 1843.0\n",
      "0.9805522095395656 1844.0\n",
      "0.9867677887909242 1845.0\n",
      "0.993122185275034 1846.0\n",
      "0.9995014361440806 1847.0\n",
      "1.0 1848.0\n"
     ]
    }
   ],
   "source": [
    "initial_T = 1800.\n",
    "liquidus_T = float( initial_T )\n",
    "out = MAGEMin_C.single_point_minimization(P, liquidus_T, data)\n",
    "liq_frac = PyMAGEMin.MAGEMin_functions.phase_frac(phase=\"liq\", MAGEMinOutput=out, sys_in='mol')\n",
    "\n",
    "while liq_frac < 1:\n",
    "    liquidus_T += 1.\n",
    "    out = MAGEMin_C.single_point_minimization(P, liquidus_T, data)\n",
    "    liq_frac = PyMAGEMin.MAGEMin_functions.phase_frac(phase=\"liq\", MAGEMinOutput=out, sys_in='mol')\n",
    "    print(liq_frac, liquidus_T)"
   ]
  },
  {
   "cell_type": "code",
   "execution_count": 11,
   "id": "9d74f6b8",
   "metadata": {},
   "outputs": [
    {
     "name": "stdout",
     "output_type": "stream",
     "text": [
      "solidus = 1188.0°C, liquidus = 1848.0°C\n"
     ]
    }
   ],
   "source": [
    "print(f'solidus = {solidus_T}°C, liquidus = {liquidus_T}°C')"
   ]
  },
  {
   "cell_type": "markdown",
   "id": "ab555efe",
   "metadata": {},
   "source": [
    "### These have been wrapped into functions within the package"
   ]
  },
  {
   "cell_type": "code",
   "execution_count": 14,
   "id": "a7e2905e",
   "metadata": {},
   "outputs": [
    {
     "name": "stdout",
     "output_type": "stream",
     "text": [
      "Determined Solidus Temperature: 1188.00 °C\n",
      "Determined Liquidus Temperature: 1848.00 °C\n"
     ]
    }
   ],
   "source": [
    "initial_solidus_T = 1200.0  \n",
    "initial_liquidus_T = 1800.0 \n",
    "\n",
    "solidus_T = PyMAGEMin.MAGEMin_functions.find_solidus(P, initial_solidus_T, data, precision=1.0)\n",
    "print(f\"Determined Solidus Temperature: {solidus_T:.2f} °C\")\n",
    "\n",
    "liquidus_T = PyMAGEMin.MAGEMin_functions.find_liquidus(P, initial_liquidus_T, data, precision=1.0)\n",
    "print(f\"Determined Liquidus Temperature: {liquidus_T:.2f} °C\")"
   ]
  },
  {
   "cell_type": "code",
   "execution_count": 15,
   "id": "26e58882",
   "metadata": {},
   "outputs": [
    {
     "name": "stdout",
     "output_type": "stream",
     "text": [
      "solidus = 1188.0°C, liquidus = 1848.0°C\n"
     ]
    }
   ],
   "source": [
    "print(f'solidus = {solidus_T}°C, liquidus = {liquidus_T}°C')"
   ]
  },
  {
   "cell_type": "code",
   "execution_count": null,
   "id": "a061455c",
   "metadata": {},
   "outputs": [],
   "source": []
  }
 ],
 "metadata": {
  "kernelspec": {
   "display_name": "UW",
   "language": "python",
   "name": "python3"
  },
  "language_info": {
   "codemirror_mode": {
    "name": "ipython",
    "version": 3
   },
   "file_extension": ".py",
   "mimetype": "text/x-python",
   "name": "python",
   "nbconvert_exporter": "python",
   "pygments_lexer": "ipython3",
   "version": "3.10.14"
  }
 },
 "nbformat": 4,
 "nbformat_minor": 5
}
